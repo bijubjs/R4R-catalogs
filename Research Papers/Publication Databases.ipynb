{
 "cells": [
  {
   "cell_type": "markdown",
   "metadata": {},
   "source": [
    "Import packages:"
   ]
  },
  {
   "cell_type": "code",
   "execution_count": 5,
   "metadata": {},
   "outputs": [],
   "source": [
    "import csv\n",
    "import pandas as pd"
   ]
  },
  {
   "cell_type": "markdown",
   "metadata": {},
   "source": [
    "Defining function to update csv file:"
   ]
  },
  {
   "cell_type": "code",
   "execution_count": 6,
   "metadata": {},
   "outputs": [],
   "source": [
    "def update_csv_file(csv_file_path, *database_lists):\n",
    "    \"\"\"\n",
    "    Combine multiple lists of databases, remove duplicates based on URL, and write the results to a CSV file.\n",
    "\n",
    "    Args:\n",
    "        csv_file_path (str): Path to the CSV file to be created/updated.\n",
    "        *database_lists (list of dicts): Variable number of lists containing database information.\n",
    "    \"\"\"\n",
    "    # Combine all provided database lists into one, using the URL as a unique identifier to remove duplicates\n",
    "    combined_databases = {db['URL']: db for database_list in database_lists for db in database_list}.values()\n",
    "    \n",
    "    # Write the combined list to the CSV file\n",
    "    with open(csv_file_path, mode='w', newline='') as file:\n",
    "        writer = csv.DictWriter(file, fieldnames=[\"Name\", \"URL\", \"Category\", \"Description\"])\n",
    "        writer.writeheader()\n",
    "        for db in combined_databases:\n",
    "            writer.writerow(db)"
   ]
  },
  {
   "cell_type": "markdown",
   "metadata": {},
   "source": [
    "Add new databases below. Give new name to each new database."
   ]
  },
  {
   "cell_type": "code",
   "execution_count": 7,
   "metadata": {},
   "outputs": [],
   "source": [
    "db08272024 = [\n",
    "    {\"Name\": \"PubMed\", \"URL\": \"https://pubmed.ncbi.nlm.nih.gov\", \"Category\": \"Research Papers Database\", \"Description\": \"Free database of biomedical and life sciences literature.\"},\n",
    "    {\"Name\": \"Google Scholar\", \"URL\": \"https://scholar.google.com\", \"Category\": \"Research Papers Database\", \"Description\": \"Broad search of scholarly literature across many disciplines.\"},\n",
    "    {\"Name\": \"IEEE Xplore\", \"URL\": \"https://ieeexplore.ieee.org\", \"Category\": \"Research Papers Database\", \"Description\": \"Digital library for research papers in electronics, electrical engineering and computer science.\"},\n",
    "    {\"Name\": \"JSTOR\", \"URL\": \"https://www.jstor.org\", \"Category\": \"Research Papers Database\", \"Description\": \"Access to thousands of academic journals, books.\"},\n",
    "    {\"Name\": \"ScienceDirect\", \"URL\": \"https://www.sciencedirect.com\", \"Category\": \"Research Papers Database\", \"Description\": \"Large collection of scientific and technical research articles.\"},\n",
    "    {\"Name\": \"SpringerLink\", \"URL\": \"https://link.springer.com\", \"Category\": \"Research Papers Database\", \"Description\": \"Comprehensive range of scientific documents including journals and books.\"},\n",
    "    {\"Name\": \"Wiley Online Library\", \"URL\": \"https://onlinelibrary.wiley.com\", \"Category\": \"Research Papers Database\", \"Description\": \"Wide range of scientific journals and books across many disciplines.\"}\n",
    "]\n",
    "\n",
    "db08282024 = [\n",
    "    {\"Name\": \"PLOS ONE\", \"URL\": \"https://journals.plos.org/plosone\", \"Category\": \"Research Papers Database\", \"Description\": \"Open-access journal covering a broad range of scientific disciplines.\"},\n",
    "    {\"Name\": \"BioRxiv\", \"URL\": \"https://www.biorxiv.org\", \"Category\": \"Research Papers Database\", \"Description\": \"Preprint server for biological sciences.\"},\n",
    "    {\"Name\": \"arXiv\", \"URL\": \"https://arxiv.org\", \"Category\": \"Research Papers Database\", \"Description\": \"Repository for preprints in fields such as physics, mathematics, computer science and more.\"},\n",
    "    {\"Name\": \"ERIC\", \"URL\": \"https://eric.ed.gov\", \"Category\": \"Research Papers Database\", \"Description\": \"Access to education literature and resources.\"},\n",
    "    {\"Name\": \"PsycINFO\", \"URL\": \"https://www.apa.org/pubs/databases/psycinf\", \"Category\": \"Research Papers Database\", \"Description\": \"Covers literature in psychology and related fields.\"},\n",
    "    {\"Name\": \"Cochrane Library\", \"URL\": \"https://www.cochranelibrary.com\", \"Category\": \"Research Papers Database\", \"Description\": \"Systematic reviews and evidence-based resources for healthcare.\"},\n",
    "    {\"Name\": \"Sci-Hub\", \"URL\": \"https://sci-hub.st\", \"Category\": \"Research Papers Database\", \"Description\": \"Provides access to scientific papers for free (note the legal and ethical considerations).\"},\n",
    "    {\"Name\": \"ResearchGate\", \"URL\": \"https://www.researchgate.net\", \"Category\": \"Research Papers Database\", \"Description\": \"Network where researchers share papers and collaborate.\"}\n",
    "]\n",
    "\n",
    "db08292024 = [\n",
    "    {\"Name\": \"Microsoft Academic\", \"URL\": \"https://academic.microsoft.com\", \"Category\": \"Research Papers Database\", \"Description\": \"Free search engine for scholarly literature.\"},\n",
    "    {\"Name\": \"Directory of Open Access Journals (DOAJ)\", \"URL\": \"https://www.doaj.org\", \"Category\": \"Research Papers Database\", \"Description\": \"Access to high-quality, open-access, peer-reviewed journals.\"},\n",
    "    {\"Name\": \"Academia.edu\", \"URL\": \"https://www.academia.edu\", \"Category\": \"Research Papers Database\", \"Description\": \"Platform for researchers to share their papers and collaborate.\"},\n",
    "    {\"Name\": \"PubChem\", \"URL\": \"https://pubchem.ncbi.nlm.nih.gov\", \"Category\": \"Chemical Database\", \"Description\": \"Free chemistry database maintained by NCBI.\"},\n",
    "    {\"Name\": \"Social Science Research Network (SSRN)\", \"URL\": \"https://www.ssrn.com\", \"Category\": \"Research Papers Database\", \"Description\": \"Repository for research in social sciences and humanities.\"},\n",
    "    {\"Name\": \"Open Access Theses and Dissertations (OATD)\", \"URL\": \"https://oatd.org\", \"Category\": \"Theses and Dissertations Database\", \"Description\": \"Indexes open access graduate theses and dissertations.\"},\n",
    "    {\"Name\": \"Chemical Abstracts Service (CAS)\", \"URL\": \"https://www.cas.org\", \"Category\": \"Chemical Database\", \"Description\": \"Comprehensive chemical information (subscription may be required).\"},\n",
    "    {\"Name\": \"MedlinePlus\", \"URL\": \"https://medlineplus.gov\", \"Category\": \"Health Information Database\", \"Description\": \"Provides information about health topics, drugs, and medical research.\"},\n",
    "    {\"Name\": \"PsyArXiv\", \"URL\": \"https://psyarxiv.com\", \"Category\": \"Preprint Server\", \"Description\": \"Preprint server for the psychological sciences.\"},\n",
    "    {\"Name\": \"Harvard DASH\", \"URL\": \"https://dash.harvard.edu\", \"Category\": \"Institutional Repository\", \"Description\": \"Institutional repository for Harvard University's research outputs.\"},\n",
    "    {\"Name\": \"MIT DSpace\", \"URL\": \"https://dspace.mit.edu\", \"Category\": \"Institutional Repository\", \"Description\": \"MIT's repository of research and scholarship.\"},\n",
    "    {\"Name\": \"Zenodo\", \"URL\": \"https://zenodo.org\", \"Category\": \"Open Access Repository\", \"Description\": \"Open-access repository for a wide range of academic research outputs.\"},\n",
    "    {\"Name\": \"Figshare\", \"URL\": \"https://figshare.com\", \"Category\": \"Research Repository\", \"Description\": \"Allows researchers to upload and share research outputs across disciplines.\"},\n",
    "    {\"Name\": \"Dryad\", \"URL\": \"https://datadryad.org\", \"Category\": \"Data Repository\", \"Description\": \"Curated resource for datasets across various scientific disciplines.\"}\n",
    "]\n",
    "\n",
    "# Additional scientific paper publishers\n",
    "db082920241345 = [\n",
    "    {\"Name\": \"Nature Publishing Group\", \"URL\": \"https://www.nature.com\", \"Category\": \"Scientific Publisher\", \"Description\": \"Publisher of journals in the fields of science and medicine.\"},\n",
    "    {\"Name\": \"Elsevier\", \"URL\": \"https://www.elsevier.com\", \"Category\": \"Scientific Publisher\", \"Description\": \"Publisher of journals in various scientific disciplines including health, life sciences, and social sciences.\"},\n",
    "    {\"Name\": \"Springer\", \"URL\": \"https://www.springer.com\", \"Category\": \"Scientific Publisher\", \"Description\": \"Provides academic journals and books in science, technology, and medicine.\"},\n",
    "    {\"Name\": \"Wiley\", \"URL\": \"https://www.wiley.com\", \"Category\": \"Scientific Publisher\", \"Description\": \"Publisher of academic journals and books across various scientific and technical disciplines.\"},\n",
    "    {\"Name\": \"Taylor & Francis\", \"URL\": \"https://www.taylorandfrancis.com\", \"Category\": \"Scientific Publisher\", \"Description\": \"Publisher of academic journals and books in the humanities, social sciences, and natural sciences.\"},\n",
    "    {\"Name\": \"Cambridge University Press\", \"URL\": \"https://www.cambridge.org\", \"Category\": \"Scientific Publisher\", \"Description\": \"Publisher of academic books and journals across various disciplines.\"},\n",
    "    {\"Name\": \"Royal Society of Chemistry\", \"URL\": \"https://www.rsc.org\", \"Category\": \"Scientific Publisher\", \"Description\": \"Publisher of journals, books, and magazines in chemistry and related disciplines.\"},\n",
    "    {\"Name\": \"American Chemical Society\", \"URL\": \"https://pubs.acs.org\", \"Category\": \"Scientific Publisher\", \"Description\": \"Publisher of journals in chemistry and related fields.\"},\n",
    "    {\"Name\": \"Institute of Physics Publishing\", \"URL\": \"https://iopscience.iop.org\", \"Category\": \"Scientific Publisher\", \"Description\": \"Publisher of journals and books in physics and related disciplines.\"},\n",
    "    {\"Name\": \"SAGE Publications\", \"URL\": \"https://journals.sagepub.com\", \"Category\": \"Scientific Publisher\", \"Description\": \"Publisher of journals and books across various academic disciplines including social sciences and humanities.\"}\n",
    "]"
   ]
  },
  {
   "cell_type": "code",
   "execution_count": 8,
   "metadata": {},
   "outputs": [
    {
     "name": "stdout",
     "output_type": "stream",
     "text": [
      "CSV file 'research_papers_databases.csv' has been updated.\n",
      "The CSV file has 39 rows and 4 columns.\n"
     ]
    }
   ],
   "source": [
    "# Filepath to save the CSV\n",
    "csv_file_path = \"research_papers_databases.csv\"\n",
    "\n",
    "# Call the function with any number of database lists\n",
    "update_csv_file(csv_file_path, db08272024, db08282024, db08292024, db082920241345)\n",
    "\n",
    "print(f\"CSV file '{csv_file_path}' has been updated.\")\n",
    "\n",
    "# Read the CSV file into a DataFrame\n",
    "df = pd.read_csv(csv_file_path)\n",
    "\n",
    "# Get the dimensions of the DataFrame\n",
    "num_rows, num_columns = df.shape\n",
    "\n",
    "print(f\"The CSV file has {num_rows} rows and {num_columns} columns.\")"
   ]
  }
 ],
 "metadata": {
  "kernelspec": {
   "display_name": "Python 3",
   "language": "python",
   "name": "python3"
  },
  "language_info": {
   "codemirror_mode": {
    "name": "ipython",
    "version": 3
   },
   "file_extension": ".py",
   "mimetype": "text/x-python",
   "name": "python",
   "nbconvert_exporter": "python",
   "pygments_lexer": "ipython3",
   "version": "3.12.5"
  }
 },
 "nbformat": 4,
 "nbformat_minor": 2
}
