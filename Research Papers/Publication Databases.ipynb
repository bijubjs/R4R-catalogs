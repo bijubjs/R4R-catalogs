{
 "cells": [
  {
   "cell_type": "code",
   "execution_count": 2,
   "metadata": {},
   "outputs": [
    {
     "data": {
      "text/plain": [
       "'research_papers_databases.csv'"
      ]
     },
     "execution_count": 2,
     "metadata": {},
     "output_type": "execute_result"
    }
   ],
   "source": [
    "import csv\n",
    "\n",
    "# Define the list of databases\n",
    "databases = [\n",
    "    {\"Name\": \"PubMed\", \"URL\": \"https://pubmed.ncbi.nlm.nih.gov/\", \"Category\": \"Research Papers Database\", \"Description\": \"A free resource with over 30 million citations for biomedical literature.\"},\n",
    "    {\"Name\": \"IEEE Xplore\", \"URL\": \"https://ieeexplore.ieee.org/\", \"Category\": \"Research Papers Database\", \"Description\": \"A digital library for research in engineering, computer science, and electronics.\"},\n",
    "    {\"Name\": \"Google Scholar\", \"URL\": \"https://scholar.google.com/\", \"Category\": \"Research Papers Database\", \"Description\": \"A search engine for scholarly literature across many disciplines and sources.\"},\n",
    "    {\"Name\": \"arXiv\", \"URL\": \"https://arxiv.org/\", \"Category\": \"Research Papers Database\", \"Description\": \"An open-access repository of electronic preprints in physics, math, and more.\"},\n",
    "    {\"Name\": \"ScienceDirect\", \"URL\": \"https://www.sciencedirect.com/\", \"Category\": \"Research Papers Database\", \"Description\": \"A website for the publication of scientific and technical research.\"},\n",
    "    {\"Name\": \"Web of Science\", \"URL\": \"https://www.webofscience.com/\", \"Category\": \"Research Papers Database\", \"Description\": \"A multidisciplinary research database with citation tracking.\"},\n",
    "    {\"Name\": \"JSTOR\", \"URL\": \"https://www.jstor.org/\", \"Category\": \"Research Papers Database\", \"Description\": \"A digital library of academic journals, books, and primary sources.\"},\n",
    "    {\"Name\": \"SpringerLink\", \"URL\": \"https://link.springer.com/\", \"Category\": \"Research Papers Database\", \"Description\": \"Provides access to millions of scientific documents across various disciplines.\"},\n",
    "    {\"Name\": \"Scopus\", \"URL\": \"https://www.scopus.com/\", \"Category\": \"Research Papers Database\", \"Description\": \"A comprehensive abstract and citation database for scientific research.\"},\n",
    "    {\"Name\": \"Wiley Online Library\", \"URL\": \"https://onlinelibrary.wiley.com/\", \"Category\": \"Research Papers Database\", \"Description\": \"A large resource of scientific research across multiple disciplines.\"}\n",
    "]\n",
    "\n",
    "# Filepath to save the CSV\n",
    "csv_file_path = \"research_papers_databases.csv\"\n",
    "\n",
    "# Write the list to a CSV file\n",
    "with open(csv_file_path, mode='w', newline='') as file:\n",
    "    writer = csv.DictWriter(file, fieldnames=[\"Name\", \"URL\", \"Category\", \"Description\"])\n",
    "    writer.writeheader()\n",
    "    for db in databases:\n",
    "        writer.writerow(db)\n",
    "\n",
    "csv_file_path"
   ]
  }
 ],
 "metadata": {
  "kernelspec": {
   "display_name": "Python 3",
   "language": "python",
   "name": "python3"
  },
  "language_info": {
   "codemirror_mode": {
    "name": "ipython",
    "version": 3
   },
   "file_extension": ".py",
   "mimetype": "text/x-python",
   "name": "python",
   "nbconvert_exporter": "python",
   "pygments_lexer": "ipython3",
   "version": "3.12.5"
  }
 },
 "nbformat": 4,
 "nbformat_minor": 2
}
